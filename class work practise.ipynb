{
 "cells": [
  {
   "cell_type": "code",
   "execution_count": 1,
   "id": "e6e0f40a",
   "metadata": {},
   "outputs": [
    {
     "name": "stdout",
     "output_type": "stream",
     "text": [
      "hello world\n"
     ]
    }
   ],
   "source": [
    "print(\"hello world\")"
   ]
  },
  {
   "cell_type": "code",
   "execution_count": 2,
   "id": "1820f10c",
   "metadata": {},
   "outputs": [
    {
     "data": {
      "text/plain": [
       "str"
      ]
     },
     "execution_count": 2,
     "metadata": {},
     "output_type": "execute_result"
    }
   ],
   "source": [
    "type(\"hello world\")"
   ]
  },
  {
   "cell_type": "code",
   "execution_count": 3,
   "id": "24e84342",
   "metadata": {},
   "outputs": [
    {
     "data": {
      "text/plain": [
       "3.4"
      ]
     },
     "execution_count": 3,
     "metadata": {},
     "output_type": "execute_result"
    }
   ],
   "source": [
    "3.4"
   ]
  },
  {
   "cell_type": "code",
   "execution_count": 4,
   "id": "627072c3",
   "metadata": {},
   "outputs": [
    {
     "data": {
      "text/plain": [
       "float"
      ]
     },
     "execution_count": 4,
     "metadata": {},
     "output_type": "execute_result"
    }
   ],
   "source": [
    "type(3.4)"
   ]
  },
  {
   "cell_type": "code",
   "execution_count": 5,
   "id": "ac2952d0",
   "metadata": {},
   "outputs": [
    {
     "data": {
      "text/plain": [
       "'pakistan'"
      ]
     },
     "execution_count": 5,
     "metadata": {},
     "output_type": "execute_result"
    }
   ],
   "source": [
    "\"pakistan\""
   ]
  },
  {
   "cell_type": "code",
   "execution_count": 6,
   "id": "5b3e1b88",
   "metadata": {},
   "outputs": [
    {
     "data": {
      "text/plain": [
       "'404'"
      ]
     },
     "execution_count": 6,
     "metadata": {},
     "output_type": "execute_result"
    }
   ],
   "source": [
    "\"404\""
   ]
  },
  {
   "cell_type": "code",
   "execution_count": 7,
   "id": "b980732e",
   "metadata": {},
   "outputs": [
    {
     "data": {
      "text/plain": [
       "25"
      ]
     },
     "execution_count": 7,
     "metadata": {},
     "output_type": "execute_result"
    }
   ],
   "source": [
    "13+12"
   ]
  },
  {
   "cell_type": "code",
   "execution_count": 8,
   "id": "68d95efa",
   "metadata": {},
   "outputs": [
    {
     "data": {
      "text/plain": [
       "10"
      ]
     },
     "execution_count": 8,
     "metadata": {},
     "output_type": "execute_result"
    }
   ],
   "source": [
    "5+5"
   ]
  },
  {
   "cell_type": "code",
   "execution_count": 9,
   "id": "42efa523",
   "metadata": {},
   "outputs": [
    {
     "data": {
      "text/plain": [
       "15.3"
      ]
     },
     "execution_count": 9,
     "metadata": {},
     "output_type": "execute_result"
    }
   ],
   "source": [
    "13.3+2"
   ]
  },
  {
   "cell_type": "code",
   "execution_count": 10,
   "id": "b543b0b3",
   "metadata": {},
   "outputs": [
    {
     "name": "stdout",
     "output_type": "stream",
     "text": [
      "6\n"
     ]
    }
   ],
   "source": [
    "print(3+3)"
   ]
  },
  {
   "cell_type": "code",
   "execution_count": 11,
   "id": "a1d73fc6",
   "metadata": {},
   "outputs": [
    {
     "name": "stdout",
     "output_type": "stream",
     "text": [
      "5.6\n"
     ]
    }
   ],
   "source": [
    "print(2.3+3.3)"
   ]
  },
  {
   "cell_type": "code",
   "execution_count": 12,
   "id": "b0f4b3af",
   "metadata": {},
   "outputs": [
    {
     "name": "stdout",
     "output_type": "stream",
     "text": [
      "<class 'float'>\n"
     ]
    }
   ],
   "source": [
    "print(type(5.6))"
   ]
  },
  {
   "cell_type": "code",
   "execution_count": 15,
   "id": "b56080ba",
   "metadata": {},
   "outputs": [
    {
     "ename": "TypeError",
     "evalue": "can only concatenate str (not \"int\") to str",
     "output_type": "error",
     "traceback": [
      "\u001b[1;31m---------------------------------------------------------------------------\u001b[0m",
      "\u001b[1;31mTypeError\u001b[0m                                 Traceback (most recent call last)",
      "\u001b[1;32m~\\AppData\\Local\\Temp\\ipykernel_17212\\1123287311.py\u001b[0m in \u001b[0;36m<module>\u001b[1;34m\u001b[0m\n\u001b[1;32m----> 1\u001b[1;33m \u001b[1;34m\"5\"\u001b[0m\u001b[1;33m+\u001b[0m\u001b[1;36m3\u001b[0m\u001b[1;33m\u001b[0m\u001b[1;33m\u001b[0m\u001b[0m\n\u001b[0m",
      "\u001b[1;31mTypeError\u001b[0m: can only concatenate str (not \"int\") to str"
     ]
    }
   ],
   "source": [
    "\"5\"+3"
   ]
  },
  {
   "cell_type": "code",
   "execution_count": 16,
   "id": "b58213c5",
   "metadata": {},
   "outputs": [
    {
     "data": {
      "text/plain": [
       "'77'"
      ]
     },
     "execution_count": 16,
     "metadata": {},
     "output_type": "execute_result"
    }
   ],
   "source": [
    "\"7\"+\"7\""
   ]
  },
  {
   "cell_type": "code",
   "execution_count": 17,
   "id": "f81ecd68",
   "metadata": {},
   "outputs": [
    {
     "data": {
      "text/plain": [
       "'77'"
      ]
     },
     "execution_count": 17,
     "metadata": {},
     "output_type": "execute_result"
    }
   ],
   "source": [
    "\"7\"+'7'"
   ]
  },
  {
   "cell_type": "code",
   "execution_count": 18,
   "id": "d08e075f",
   "metadata": {},
   "outputs": [
    {
     "ename": "TypeError",
     "evalue": "can only concatenate str (not \"int\") to str",
     "output_type": "error",
     "traceback": [
      "\u001b[1;31m---------------------------------------------------------------------------\u001b[0m",
      "\u001b[1;31mTypeError\u001b[0m                                 Traceback (most recent call last)",
      "\u001b[1;32m~\\AppData\\Local\\Temp\\ipykernel_17212\\2593585818.py\u001b[0m in \u001b[0;36m<module>\u001b[1;34m\u001b[0m\n\u001b[1;32m----> 1\u001b[1;33m \u001b[1;34m\"3\"\u001b[0m\u001b[1;33m+\u001b[0m\u001b[1;36m23\u001b[0m\u001b[1;33m\u001b[0m\u001b[1;33m\u001b[0m\u001b[0m\n\u001b[0m",
      "\u001b[1;31mTypeError\u001b[0m: can only concatenate str (not \"int\") to str"
     ]
    }
   ],
   "source": [
    "\"3\"+23"
   ]
  },
  {
   "cell_type": "markdown",
   "id": "51d2847a",
   "metadata": {},
   "source": [
    "# List"
   ]
  },
  {
   "cell_type": "code",
   "execution_count": 19,
   "id": "33b8d78b",
   "metadata": {},
   "outputs": [
    {
     "name": "stdout",
     "output_type": "stream",
     "text": [
      "Ali 21 75.0\n"
     ]
    }
   ],
   "source": [
    "student=\"Ali 21 75.0\"\n",
    "print(student)"
   ]
  },
  {
   "cell_type": "code",
   "execution_count": 20,
   "id": "ecc8aa49",
   "metadata": {},
   "outputs": [
    {
     "name": "stdout",
     "output_type": "stream",
     "text": [
      "Ameet 27 30000.0\n"
     ]
    }
   ],
   "source": [
    "employee_name=\"Ameet\"\n",
    "employee_age=27\n",
    "employee_salary=30000.0\n",
    "print(employee_name,employee_age,employee_salary)"
   ]
  },
  {
   "cell_type": "code",
   "execution_count": 21,
   "id": "d3f0d466",
   "metadata": {},
   "outputs": [
    {
     "data": {
      "text/plain": [
       "500"
      ]
     },
     "execution_count": 21,
     "metadata": {},
     "output_type": "execute_result"
    }
   ],
   "source": [
    "5*100"
   ]
  },
  {
   "cell_type": "code",
   "execution_count": 23,
   "id": "d3b1a38e",
   "metadata": {},
   "outputs": [],
   "source": [
    "employee=[employee_name ,employee_age ,employee_salary]"
   ]
  },
  {
   "cell_type": "code",
   "execution_count": 24,
   "id": "696ba020",
   "metadata": {},
   "outputs": [
    {
     "name": "stdout",
     "output_type": "stream",
     "text": [
      "['Ameet', 27, 30000.0]\n"
     ]
    }
   ],
   "source": [
    "print(employee)"
   ]
  },
  {
   "cell_type": "markdown",
   "id": "03c651c9",
   "metadata": {},
   "source": [
    "# indexing "
   ]
  },
  {
   "cell_type": "code",
   "execution_count": 25,
   "id": "4d3d87d6",
   "metadata": {},
   "outputs": [
    {
     "data": {
      "text/plain": [
       "['Ameet', 27, 30000.0]"
      ]
     },
     "execution_count": 25,
     "metadata": {},
     "output_type": "execute_result"
    }
   ],
   "source": [
    "employee"
   ]
  },
  {
   "cell_type": "code",
   "execution_count": 26,
   "id": "965f91b0",
   "metadata": {},
   "outputs": [
    {
     "data": {
      "text/plain": [
       "27"
      ]
     },
     "execution_count": 26,
     "metadata": {},
     "output_type": "execute_result"
    }
   ],
   "source": [
    "employee[1]"
   ]
  },
  {
   "cell_type": "code",
   "execution_count": 27,
   "id": "d4852ab4",
   "metadata": {},
   "outputs": [
    {
     "data": {
      "text/plain": [
       "30000.0"
      ]
     },
     "execution_count": 27,
     "metadata": {},
     "output_type": "execute_result"
    }
   ],
   "source": [
    "employee[-1]"
   ]
  },
  {
   "cell_type": "code",
   "execution_count": 28,
   "id": "47c7afd7",
   "metadata": {},
   "outputs": [
    {
     "data": {
      "text/plain": [
       "27"
      ]
     },
     "execution_count": 28,
     "metadata": {},
     "output_type": "execute_result"
    }
   ],
   "source": [
    "employee[-2]"
   ]
  },
  {
   "cell_type": "markdown",
   "id": "1b6d6233",
   "metadata": {},
   "source": [
    "# updating"
   ]
  },
  {
   "cell_type": "code",
   "execution_count": 29,
   "id": "cea17e8d",
   "metadata": {},
   "outputs": [
    {
     "data": {
      "text/plain": [
       "['Ameet', 27, 30000.0]"
      ]
     },
     "execution_count": 29,
     "metadata": {},
     "output_type": "execute_result"
    }
   ],
   "source": [
    "employee"
   ]
  },
  {
   "cell_type": "code",
   "execution_count": 30,
   "id": "cb9e7fda",
   "metadata": {},
   "outputs": [
    {
     "name": "stdout",
     "output_type": "stream",
     "text": [
      "['Ameet', 27, 30000.0]\n"
     ]
    }
   ],
   "source": [
    "print(employee)"
   ]
  },
  {
   "cell_type": "code",
   "execution_count": 31,
   "id": "7344a57f",
   "metadata": {},
   "outputs": [
    {
     "name": "stdout",
     "output_type": "stream",
     "text": [
      "['Ameet', 27, 30000.0]\n"
     ]
    }
   ],
   "source": [
    "employee=[employee_name ,employee_age ,employee_salary]\n",
    "print(employee)"
   ]
  },
  {
   "cell_type": "code",
   "execution_count": 32,
   "id": "e4f8c1cc",
   "metadata": {},
   "outputs": [
    {
     "data": {
      "text/plain": [
       "['Ameet', 28, 30000.0]"
      ]
     },
     "execution_count": 32,
     "metadata": {},
     "output_type": "execute_result"
    }
   ],
   "source": [
    "employee[1]=employee[1]+1\n",
    "employee"
   ]
  },
  {
   "cell_type": "code",
   "execution_count": 34,
   "id": "091c244d",
   "metadata": {},
   "outputs": [],
   "source": [
    "employee[1]=28"
   ]
  },
  {
   "cell_type": "code",
   "execution_count": 35,
   "id": "65d50951",
   "metadata": {},
   "outputs": [
    {
     "data": {
      "text/plain": [
       "['Ameet', 28, 30000.0]"
      ]
     },
     "execution_count": 35,
     "metadata": {},
     "output_type": "execute_result"
    }
   ],
   "source": [
    "employee"
   ]
  },
  {
   "cell_type": "code",
   "execution_count": 36,
   "id": "0678b5b6",
   "metadata": {},
   "outputs": [
    {
     "data": {
      "text/plain": [
       "['Ameet', 28, 32000.0]"
      ]
     },
     "execution_count": 36,
     "metadata": {},
     "output_type": "execute_result"
    }
   ],
   "source": [
    "employee[2]=32000.0\n",
    "employee"
   ]
  },
  {
   "cell_type": "markdown",
   "id": "ce687ba0",
   "metadata": {},
   "source": [
    "# indexing "
   ]
  },
  {
   "cell_type": "code",
   "execution_count": 37,
   "id": "58c9ff02",
   "metadata": {},
   "outputs": [
    {
     "data": {
      "text/plain": [
       "['Ameet', 28, 32000.0]"
      ]
     },
     "execution_count": 37,
     "metadata": {},
     "output_type": "execute_result"
    }
   ],
   "source": [
    "employee"
   ]
  },
  {
   "cell_type": "code",
   "execution_count": 38,
   "id": "3864d93a",
   "metadata": {},
   "outputs": [
    {
     "data": {
      "text/plain": [
       "3"
      ]
     },
     "execution_count": 38,
     "metadata": {},
     "output_type": "execute_result"
    }
   ],
   "source": [
    "len(employee)"
   ]
  },
  {
   "cell_type": "code",
   "execution_count": 39,
   "id": "c260752d",
   "metadata": {},
   "outputs": [
    {
     "data": {
      "text/plain": [
       "8"
      ]
     },
     "execution_count": 39,
     "metadata": {},
     "output_type": "execute_result"
    }
   ],
   "source": [
    "len(\"pakistan\")"
   ]
  },
  {
   "cell_type": "code",
   "execution_count": 40,
   "id": "10b6d05f",
   "metadata": {},
   "outputs": [
    {
     "data": {
      "text/plain": [
       "5"
      ]
     },
     "execution_count": 40,
     "metadata": {},
     "output_type": "execute_result"
    }
   ],
   "source": [
    "len(\"sindh\")"
   ]
  },
  {
   "cell_type": "code",
   "execution_count": 41,
   "id": "ac7ee8b1",
   "metadata": {},
   "outputs": [
    {
     "data": {
      "text/plain": [
       "7"
      ]
     },
     "execution_count": 41,
     "metadata": {},
     "output_type": "execute_result"
    }
   ],
   "source": [
    "len(\"karachi\")"
   ]
  },
  {
   "cell_type": "code",
   "execution_count": 42,
   "id": "7d4e8dfa",
   "metadata": {},
   "outputs": [
    {
     "data": {
      "text/plain": [
       "0"
      ]
     },
     "execution_count": 42,
     "metadata": {},
     "output_type": "execute_result"
    }
   ],
   "source": [
    "employee.index(\"Ameet\")"
   ]
  },
  {
   "cell_type": "code",
   "execution_count": 43,
   "id": "1551720d",
   "metadata": {},
   "outputs": [
    {
     "data": {
      "text/plain": [
       "2"
      ]
     },
     "execution_count": 43,
     "metadata": {},
     "output_type": "execute_result"
    }
   ],
   "source": [
    "employee.index(32000.0)"
   ]
  },
  {
   "cell_type": "markdown",
   "id": "8354f37a",
   "metadata": {},
   "source": [
    "# Append "
   ]
  },
  {
   "cell_type": "code",
   "execution_count": 44,
   "id": "ab26d469",
   "metadata": {},
   "outputs": [
    {
     "data": {
      "text/plain": [
       "['Ameet', 28, 32000.0]"
      ]
     },
     "execution_count": 44,
     "metadata": {},
     "output_type": "execute_result"
    }
   ],
   "source": [
    "employee"
   ]
  },
  {
   "cell_type": "code",
   "execution_count": 47,
   "id": "a02e0f6c",
   "metadata": {},
   "outputs": [],
   "source": [
    "employee.append(\"karachi\")"
   ]
  },
  {
   "cell_type": "code",
   "execution_count": 48,
   "id": "4e78e35a",
   "metadata": {},
   "outputs": [],
   "source": [
    "employee.append(\"maleer\")"
   ]
  },
  {
   "cell_type": "code",
   "execution_count": 49,
   "id": "bf14cec4",
   "metadata": {},
   "outputs": [
    {
     "data": {
      "text/plain": [
       "['Ameet', 28, 32000.0, 'karachi', 'karachi', 'karachi', 'maleer']"
      ]
     },
     "execution_count": 49,
     "metadata": {},
     "output_type": "execute_result"
    }
   ],
   "source": [
    "employee"
   ]
  },
  {
   "cell_type": "markdown",
   "id": "151f16d3",
   "metadata": {},
   "source": [
    "# slicing"
   ]
  },
  {
   "cell_type": "code",
   "execution_count": 50,
   "id": "2e5d60ae",
   "metadata": {},
   "outputs": [
    {
     "data": {
      "text/plain": [
       "['Ameet', 28, 32000.0, 'karachi', 'karachi', 'karachi', 'maleer', 'karachi']"
      ]
     },
     "execution_count": 50,
     "metadata": {},
     "output_type": "execute_result"
    }
   ],
   "source": [
    "employee.append(\"karachi\")\n",
    "employee"
   ]
  },
  {
   "cell_type": "code",
   "execution_count": null,
   "id": "64da352b",
   "metadata": {},
   "outputs": [],
   "source": [
    "# list [start_index:end_index]\n",
    "#note:\n",
    "   # always return a list \n",
    "#always returns continuous segments\n",
    "#end index+1"
   ]
  },
  {
   "cell_type": "code",
   "execution_count": 51,
   "id": "f8afca51",
   "metadata": {},
   "outputs": [],
   "source": [
    "# employee[0:5]"
   ]
  },
  {
   "cell_type": "code",
   "execution_count": 52,
   "id": "47bdb1e1",
   "metadata": {},
   "outputs": [
    {
     "data": {
      "text/plain": [
       "[32000.0, 'karachi', 'karachi', 'karachi', 'maleer', 'karachi']"
      ]
     },
     "execution_count": 52,
     "metadata": {},
     "output_type": "execute_result"
    }
   ],
   "source": [
    "employee[2:]"
   ]
  },
  {
   "cell_type": "code",
   "execution_count": 53,
   "id": "a8f2481d",
   "metadata": {},
   "outputs": [
    {
     "data": {
      "text/plain": [
       "[28, 32000.0, 'karachi', 'karachi', 'karachi', 'maleer', 'karachi']"
      ]
     },
     "execution_count": 53,
     "metadata": {},
     "output_type": "execute_result"
    }
   ],
   "source": [
    "employee[1:]"
   ]
  },
  {
   "cell_type": "code",
   "execution_count": 54,
   "id": "aac6014a",
   "metadata": {},
   "outputs": [
    {
     "data": {
      "text/plain": [
       "['Ameet']"
      ]
     },
     "execution_count": 54,
     "metadata": {},
     "output_type": "execute_result"
    }
   ],
   "source": [
    "employee[0:1]"
   ]
  },
  {
   "cell_type": "code",
   "execution_count": 55,
   "id": "cd3ce9bf",
   "metadata": {},
   "outputs": [
    {
     "data": {
      "text/plain": [
       "[28, 32000.0]"
      ]
     },
     "execution_count": 55,
     "metadata": {},
     "output_type": "execute_result"
    }
   ],
   "source": [
    "employee[1:3]"
   ]
  },
  {
   "cell_type": "code",
   "execution_count": 56,
   "id": "83a9f0fe",
   "metadata": {},
   "outputs": [
    {
     "data": {
      "text/plain": [
       "'Ameet'"
      ]
     },
     "execution_count": 56,
     "metadata": {},
     "output_type": "execute_result"
    }
   ],
   "source": [
    "employee[0]"
   ]
  },
  {
   "cell_type": "code",
   "execution_count": 57,
   "id": "4d5cfa48",
   "metadata": {},
   "outputs": [
    {
     "data": {
      "text/plain": [
       "['Ameet', 28, 32000.0, 'karachi', 'karachi', 'karachi', 'maleer', 'karachi']"
      ]
     },
     "execution_count": 57,
     "metadata": {},
     "output_type": "execute_result"
    }
   ],
   "source": [
    "employee[0:]"
   ]
  },
  {
   "cell_type": "code",
   "execution_count": 58,
   "id": "379969fc",
   "metadata": {},
   "outputs": [
    {
     "data": {
      "text/plain": [
       "[]"
      ]
     },
     "execution_count": 58,
     "metadata": {},
     "output_type": "execute_result"
    }
   ],
   "source": [
    "employee[-1:2]"
   ]
  },
  {
   "cell_type": "code",
   "execution_count": 59,
   "id": "266f53d5",
   "metadata": {},
   "outputs": [
    {
     "data": {
      "text/plain": [
       "['karachi', 'maleer', 'karachi']"
      ]
     },
     "execution_count": 59,
     "metadata": {},
     "output_type": "execute_result"
    }
   ],
   "source": [
    "employee[-3:]"
   ]
  },
  {
   "cell_type": "code",
   "execution_count": 60,
   "id": "02a65034",
   "metadata": {},
   "outputs": [
    {
     "data": {
      "text/plain": [
       "['maleer', 'karachi']"
      ]
     },
     "execution_count": 60,
     "metadata": {},
     "output_type": "execute_result"
    }
   ],
   "source": [
    "employee[-2:]"
   ]
  },
  {
   "cell_type": "code",
   "execution_count": 61,
   "id": "b93b6ae6",
   "metadata": {},
   "outputs": [
    {
     "data": {
      "text/plain": [
       "['Ameet', 28, 32000.0, 'karachi', 'karachi']"
      ]
     },
     "execution_count": 61,
     "metadata": {},
     "output_type": "execute_result"
    }
   ],
   "source": [
    "employee[0:-3]"
   ]
  },
  {
   "cell_type": "code",
   "execution_count": 62,
   "id": "c0d54596",
   "metadata": {
    "scrolled": true
   },
   "outputs": [
    {
     "data": {
      "text/plain": [
       "[28, 32000.0, 'karachi', 'karachi']"
      ]
     },
     "execution_count": 62,
     "metadata": {},
     "output_type": "execute_result"
    }
   ],
   "source": [
    "employee[1:-3]"
   ]
  },
  {
   "cell_type": "markdown",
   "id": "025ef542",
   "metadata": {},
   "source": [
    "# content\n",
    "1 list of lists \n",
    "2 looping\n",
    "3 conditational statments single and multiple"
   ]
  },
  {
   "cell_type": "markdown",
   "id": "c70ddec4",
   "metadata": {},
   "source": [
    " # List of  the lists"
   ]
  },
  {
   "cell_type": "code",
   "execution_count": 63,
   "id": "124ba819",
   "metadata": {},
   "outputs": [
    {
     "data": {
      "text/plain": [
       "['Ameet', 28, 32000.0, 'karachi', 'karachi', 'karachi', 'maleer', 'karachi']"
      ]
     },
     "execution_count": 63,
     "metadata": {},
     "output_type": "execute_result"
    }
   ],
   "source": [
    "employee"
   ]
  },
  {
   "cell_type": "code",
   "execution_count": 66,
   "id": "3791fc0f",
   "metadata": {},
   "outputs": [],
   "source": [
    "emp1 =[\"Mubashir\" ,21 ,5000.0]\n",
    "emp2=[\"sadd\", 25 ,3000.0]\n",
    "emp3=[\"Ali\", 22, 6000.0]\n",
    "emp4=[\"daniial\",28,3000.0]"
   ]
  },
  {
   "cell_type": "code",
   "execution_count": 67,
   "id": "2d871f13",
   "metadata": {},
   "outputs": [
    {
     "data": {
      "text/plain": [
       "[['Mubashir', 21, 5000.0],\n",
       " ['sadd', 25, 3000.0],\n",
       " ['Ali', 22, 6000.0],\n",
       " ['daniial', 28, 3000.0]]"
      ]
     },
     "execution_count": 67,
     "metadata": {},
     "output_type": "execute_result"
    }
   ],
   "source": [
    "employees=[emp1,emp2,emp3,emp4]\n",
    "employees"
   ]
  },
  {
   "cell_type": "markdown",
   "id": "4ad27f7c",
   "metadata": {},
   "source": [
    "# indexing in the list of the lists"
   ]
  },
  {
   "cell_type": "code",
   "execution_count": 68,
   "id": "1fe6b423",
   "metadata": {},
   "outputs": [
    {
     "data": {
      "text/plain": [
       "['Mubashir', 21, 5000.0]"
      ]
     },
     "execution_count": 68,
     "metadata": {},
     "output_type": "execute_result"
    }
   ],
   "source": [
    "# mubashir record\n",
    "employees[0]\n",
    "#Mubashir age\n"
   ]
  },
  {
   "cell_type": "code",
   "execution_count": 69,
   "id": "14a54181",
   "metadata": {},
   "outputs": [
    {
     "data": {
      "text/plain": [
       "21"
      ]
     },
     "execution_count": 69,
     "metadata": {},
     "output_type": "execute_result"
    }
   ],
   "source": [
    "['Mubashir', 21, 5000.0][1]\n"
   ]
  },
  {
   "cell_type": "code",
   "execution_count": 70,
   "id": "bfee34ff",
   "metadata": {},
   "outputs": [
    {
     "data": {
      "text/plain": [
       "21"
      ]
     },
     "execution_count": 70,
     "metadata": {},
     "output_type": "execute_result"
    }
   ],
   "source": [
    "employees[0][1]"
   ]
  },
  {
   "cell_type": "code",
   "execution_count": 71,
   "id": "bbbfebaa",
   "metadata": {},
   "outputs": [
    {
     "data": {
      "text/plain": [
       "'Mubashir'"
      ]
     },
     "execution_count": 71,
     "metadata": {},
     "output_type": "execute_result"
    }
   ],
   "source": [
    "employees[0][0]"
   ]
  },
  {
   "cell_type": "markdown",
   "id": "fe170312",
   "metadata": {},
   "source": [
    "employess[1][0]"
   ]
  },
  {
   "cell_type": "code",
   "execution_count": 72,
   "id": "e33fd010",
   "metadata": {},
   "outputs": [
    {
     "data": {
      "text/plain": [
       "'sadd'"
      ]
     },
     "execution_count": 72,
     "metadata": {},
     "output_type": "execute_result"
    }
   ],
   "source": [
    "employees[1][0]"
   ]
  },
  {
   "cell_type": "markdown",
   "id": "044c8998",
   "metadata": {},
   "source": [
    "# class task print danial salary"
   ]
  },
  {
   "cell_type": "code",
   "execution_count": 73,
   "id": "7a3f3657",
   "metadata": {},
   "outputs": [
    {
     "data": {
      "text/plain": [
       "3000.0"
      ]
     },
     "execution_count": 73,
     "metadata": {},
     "output_type": "execute_result"
    }
   ],
   "source": [
    "employees[3][2]"
   ]
  },
  {
   "cell_type": "code",
   "execution_count": null,
   "id": "a218418c",
   "metadata": {},
   "outputs": [],
   "source": [
    "# Q find the age of \"ali\""
   ]
  },
  {
   "cell_type": "code",
   "execution_count": 74,
   "id": "e53446db",
   "metadata": {},
   "outputs": [
    {
     "data": {
      "text/plain": [
       "22"
      ]
     },
     "execution_count": 74,
     "metadata": {},
     "output_type": "execute_result"
    }
   ],
   "source": [
    "employees[2][1]"
   ]
  },
  {
   "cell_type": "markdown",
   "id": "1652447a",
   "metadata": {},
   "source": [
    " # Looping"
   ]
  },
  {
   "cell_type": "code",
   "execution_count": 75,
   "id": "1aad86ce",
   "metadata": {},
   "outputs": [
    {
     "name": "stdout",
     "output_type": "stream",
     "text": [
      "Ali\n",
      "22\n",
      "500.0\n",
      "Male\n"
     ]
    }
   ],
   "source": [
    "# looping over the list\n",
    "employee_ali=[\"Ali\",22,500.0,\"Male\"]\n",
    "for i in employee_ali:\n",
    "    print(i)"
   ]
  },
  {
   "cell_type": "code",
   "execution_count": 76,
   "id": "a306f9c9",
   "metadata": {},
   "outputs": [
    {
     "name": "stdout",
     "output_type": "stream",
     "text": [
      "p\n",
      "a\n",
      "k\n",
      "i\n",
      "s\n",
      "t\n",
      "a\n",
      "n\n"
     ]
    }
   ],
   "source": [
    " # looping over string\n",
    "    \n",
    "for i in \"pakistan\":\n",
    "        print(i)  "
   ]
  },
  {
   "cell_type": "code",
   "execution_count": 77,
   "id": "b5175677",
   "metadata": {},
   "outputs": [
    {
     "name": "stdout",
     "output_type": "stream",
     "text": [
      "A\n",
      "m\n",
      "e\n",
      "r\n",
      "i\n",
      "c\n",
      "a\n"
     ]
    }
   ],
   "source": [
    "for i in \"America\":\n",
    "    print(i)"
   ]
  },
  {
   "cell_type": "code",
   "execution_count": 78,
   "id": "c1d29417",
   "metadata": {},
   "outputs": [
    {
     "name": "stdout",
     "output_type": "stream",
     "text": [
      "D\n",
      "u\n",
      "s\n",
      "h\n",
      "a\n",
      "n\n",
      "t\n",
      " \n",
      "c\n",
      "h\n",
      "o\n",
      "u\n",
      "d\n",
      "h\n",
      "a\n",
      "r\n",
      "y\n"
     ]
    }
   ],
   "source": [
    "for i in \"Dushant choudhary\":\n",
    "      print(i)"
   ]
  },
  {
   "cell_type": "code",
   "execution_count": null,
   "id": "50130a46",
   "metadata": {},
   "outputs": [],
   "source": [
    "# class task 1\n",
    "#Q: print the countries name one by one:\n",
    "#countries=[\"pakistan\",\"india\",\"Nepal\", \"US\"]\n"
   ]
  },
  {
   "cell_type": "code",
   "execution_count": 80,
   "id": "bf953803",
   "metadata": {},
   "outputs": [
    {
     "ename": "IndentationError",
     "evalue": "expected an indented block (2425069162.py, line 2)",
     "output_type": "error",
     "traceback": [
      "\u001b[1;36m  File \u001b[1;32m\"C:\\Users\\USER\\AppData\\Local\\Temp\\ipykernel_17212\\2425069162.py\"\u001b[1;36m, line \u001b[1;32m2\u001b[0m\n\u001b[1;33m    \u001b[0m\n\u001b[1;37m    ^\u001b[0m\n\u001b[1;31mIndentationError\u001b[0m\u001b[1;31m:\u001b[0m expected an indented block\n"
     ]
    }
   ],
   "source": [
    "for i in \"pakistan\":\n",
    "    "
   ]
  },
  {
   "cell_type": "code",
   "execution_count": 81,
   "id": "f128003a",
   "metadata": {},
   "outputs": [
    {
     "name": "stdout",
     "output_type": "stream",
     "text": [
      "I\n",
      "n\n",
      "d\n",
      "i\n",
      "a\n"
     ]
    }
   ],
   "source": [
    "for i in \"India\":\n",
    "     print(i)"
   ]
  },
  {
   "cell_type": "code",
   "execution_count": 82,
   "id": "abc80508",
   "metadata": {},
   "outputs": [
    {
     "name": "stdout",
     "output_type": "stream",
     "text": [
      "N\n",
      "e\n",
      "p\n",
      "a\n",
      "l\n"
     ]
    }
   ],
   "source": [
    "for i in \"Nepal\":\n",
    "    print(i)"
   ]
  },
  {
   "cell_type": "code",
   "execution_count": 83,
   "id": "50ed4130",
   "metadata": {},
   "outputs": [
    {
     "name": "stdout",
     "output_type": "stream",
     "text": [
      "U\n",
      "S\n",
      "A\n"
     ]
    }
   ],
   "source": [
    "for i in \"USA\":\n",
    "    print(i)"
   ]
  },
  {
   "cell_type": "code",
   "execution_count": 84,
   "id": "3c8cec31",
   "metadata": {},
   "outputs": [
    {
     "name": "stdout",
     "output_type": "stream",
     "text": [
      "['Mubashir', 21, 5000.0]\n",
      "['sadd', 25, 3000.0]\n",
      "['Ali', 22, 6000.0]\n",
      "['daniial', 28, 3000.0]\n"
     ]
    }
   ],
   "source": [
    "#  looping over the list of the lists\n",
    "for i in employees:\n",
    "        print(i)"
   ]
  },
  {
   "cell_type": "code",
   "execution_count": 85,
   "id": "6332db26",
   "metadata": {},
   "outputs": [
    {
     "data": {
      "text/plain": [
       "21"
      ]
     },
     "execution_count": 85,
     "metadata": {},
     "output_type": "execute_result"
    }
   ],
   "source": [
    "['Mubashir', 21, 5000.0][1]"
   ]
  },
  {
   "cell_type": "code",
   "execution_count": 86,
   "id": "3c4cefcd",
   "metadata": {},
   "outputs": [
    {
     "data": {
      "text/plain": [
       "5000.0"
      ]
     },
     "execution_count": 86,
     "metadata": {},
     "output_type": "execute_result"
    }
   ],
   "source": [
    "['Mubashir', 21, 5000.0][-1]"
   ]
  },
  {
   "cell_type": "code",
   "execution_count": 87,
   "id": "bfcaaf00",
   "metadata": {},
   "outputs": [
    {
     "name": "stdout",
     "output_type": "stream",
     "text": [
      "5000.0\n",
      "3000.0\n",
      "6000.0\n",
      "3000.0\n"
     ]
    }
   ],
   "source": [
    "# fetch the salary of the all employees\n",
    "for i in employees:\n",
    "        print(i[2])"
   ]
  },
  {
   "cell_type": "code",
   "execution_count": 88,
   "id": "9de8a1d1",
   "metadata": {},
   "outputs": [
    {
     "name": "stdout",
     "output_type": "stream",
     "text": [
      "Mubashir\n",
      "sadd\n",
      "Ali\n",
      "daniial\n"
     ]
    }
   ],
   "source": [
    " # fetch the name of the all of the employee\n",
    "for i in employees:\n",
    "    print(i[0])"
   ]
  },
  {
   "cell_type": "markdown",
   "id": "418534b0",
   "metadata": {},
   "source": [
    "#  class Task 2\n",
    " Q: fetch age of all employees"
   ]
  },
  {
   "cell_type": "code",
   "execution_count": 89,
   "id": "1eb49273",
   "metadata": {},
   "outputs": [
    {
     "name": "stdout",
     "output_type": "stream",
     "text": [
      "21\n",
      "25\n",
      "22\n",
      "28\n"
     ]
    }
   ],
   "source": [
    "for i in employees:\n",
    "    print(i[1])\n"
   ]
  },
  {
   "cell_type": "code",
   "execution_count": 91,
   "id": "050e3849",
   "metadata": {},
   "outputs": [],
   "source": [
    "# Adding 1000 in all salaries\n",
    "for i in employees:\n",
    "    #print(i)\n",
    "    # print(i[2])\n",
    "    i[2]=i[2]+1000\n",
    "    "
   ]
  },
  {
   "cell_type": "code",
   "execution_count": 92,
   "id": "25d4c37b",
   "metadata": {},
   "outputs": [
    {
     "data": {
      "text/plain": [
       "[['Mubashir', 21, 7000.0],\n",
       " ['sadd', 25, 5000.0],\n",
       " ['Ali', 22, 8000.0],\n",
       " ['daniial', 28, 5000.0]]"
      ]
     },
     "execution_count": 92,
     "metadata": {},
     "output_type": "execute_result"
    }
   ],
   "source": [
    "employees"
   ]
  },
  {
   "cell_type": "markdown",
   "id": "56d79bca",
   "metadata": {},
   "source": [
    "#  class Task 3\n",
    "Q: add 1 to 1ll the ages of the employees"
   ]
  },
  {
   "cell_type": "code",
   "execution_count": 95,
   "id": "71736a42",
   "metadata": {},
   "outputs": [],
   "source": [
    "for i in employees:\n",
    "       i[1]=i[1]+1"
   ]
  },
  {
   "cell_type": "code",
   "execution_count": 96,
   "id": "bb74da0a",
   "metadata": {},
   "outputs": [
    {
     "data": {
      "text/plain": [
       "[['Mubashir', 24, 7000.0],\n",
       " ['sadd', 28, 5000.0],\n",
       " ['Ali', 25, 8000.0],\n",
       " ['daniial', 31, 5000.0]]"
      ]
     },
     "execution_count": 96,
     "metadata": {},
     "output_type": "execute_result"
    }
   ],
   "source": [
    "employees"
   ]
  },
  {
   "cell_type": "code",
   "execution_count": null,
   "id": "a09c32e6",
   "metadata": {},
   "outputs": [],
   "source": [
    "# adding gender at the end of the list"
   ]
  },
  {
   "cell_type": "code",
   "execution_count": 98,
   "id": "6fe13e2e",
   "metadata": {},
   "outputs": [],
   "source": [
    "for i in employees:\n",
    "    i.append(\"Male\")"
   ]
  },
  {
   "cell_type": "code",
   "execution_count": 99,
   "id": "1b8fc31b",
   "metadata": {},
   "outputs": [
    {
     "data": {
      "text/plain": [
       "[['Mubashir', 24, 7000.0, 'Male', 'Male'],\n",
       " ['sadd', 28, 5000.0, 'Male', 'Male'],\n",
       " ['Ali', 25, 8000.0, 'Male', 'Male'],\n",
       " ['daniial', 31, 5000.0, 'Male', 'Male']]"
      ]
     },
     "execution_count": 99,
     "metadata": {},
     "output_type": "execute_result"
    }
   ],
   "source": [
    "employees"
   ]
  },
  {
   "cell_type": "markdown",
   "id": "096c392d",
   "metadata": {},
   "source": [
    "# class task 4 \n",
    "Q: Add karachi at the end of the each record"
   ]
  },
  {
   "cell_type": "code",
   "execution_count": 101,
   "id": "bec92c7b",
   "metadata": {},
   "outputs": [],
   "source": [
    "for i in employees:\n",
    "    i.append(\"karachi\")"
   ]
  },
  {
   "cell_type": "code",
   "execution_count": 102,
   "id": "5b712a27",
   "metadata": {},
   "outputs": [
    {
     "data": {
      "text/plain": [
       "[['Mubashir', 24, 7000.0, 'Male', 'Male', 'karachi', 'karachi'],\n",
       " ['sadd', 28, 5000.0, 'Male', 'Male', 'karachi', 'karachi'],\n",
       " ['Ali', 25, 8000.0, 'Male', 'Male', 'karachi', 'karachi'],\n",
       " ['daniial', 31, 5000.0, 'Male', 'Male', 'karachi', 'karachi']]"
      ]
     },
     "execution_count": 102,
     "metadata": {},
     "output_type": "execute_result"
    }
   ],
   "source": [
    "employees"
   ]
  },
  {
   "cell_type": "markdown",
   "id": "40a9aa21",
   "metadata": {},
   "source": [
    "# conditional statements "
   ]
  },
  {
   "cell_type": "code",
   "execution_count": null,
   "id": "2f105ab0",
   "metadata": {},
   "outputs": [],
   "source": [
    "# they are used in filtering of the data \n",
    "# why filter ? delete is a costly process"
   ]
  },
  {
   "cell_type": "markdown",
   "id": "795a5dba",
   "metadata": {},
   "source": [
    "# single:\n",
    "> syntax:\n",
    "if condition:\n",
    "  statement\n",
    "  else:\n",
    "  statement"
   ]
  },
  {
   "cell_type": "markdown",
   "id": "acbd02fe",
   "metadata": {},
   "source": [
    " # Rational operators\n",
    " * greater than >\n",
    " * Less than<\n",
    " *Equal to==\n",
    " * Not Equal to !=\n",
    " * Greater than or equal to >=\n",
    " * Less than equal to  <=\n",
    " "
   ]
  },
  {
   "cell_type": "code",
   "execution_count": 103,
   "id": "64e8bf01",
   "metadata": {},
   "outputs": [
    {
     "name": "stdout",
     "output_type": "stream",
     "text": [
      "cannot vote\n"
     ]
    }
   ],
   "source": [
    "# single\n",
    "age=16\n",
    "if age>=18: # return boolan value means (true or false)\n",
    "     print(\"Eligible to  vote\")\n",
    "else:\n",
    "    print(\"cannot vote\")"
   ]
  },
  {
   "cell_type": "markdown",
   "id": "ad2b2bf9",
   "metadata": {},
   "source": [
    "# Boolean"
   ]
  },
  {
   "cell_type": "code",
   "execution_count": 104,
   "id": "064cba86",
   "metadata": {},
   "outputs": [
    {
     "data": {
      "text/plain": [
       "True"
      ]
     },
     "execution_count": 104,
     "metadata": {},
     "output_type": "execute_result"
    }
   ],
   "source": [
    "\" Mubashir\"==\"Mubashir\"\n",
    "\" Mbashir\"==\"pakistan\"\n",
    "10==10\n",
    "10>5\n",
    "10>=5"
   ]
  },
  {
   "cell_type": "markdown",
   "id": "067350fc",
   "metadata": {},
   "source": [
    "# Class Task 5\n",
    "1) Create a variable marks (assign it a value of your choice)\n",
    "2) check if marks are greator than and equal to 50 (print pass)\n",
    "3) else print (print fail)\n",
    " "
   ]
  },
  {
   "cell_type": "code",
   "execution_count": 105,
   "id": "5cfeb130",
   "metadata": {},
   "outputs": [
    {
     "name": "stdout",
     "output_type": "stream",
     "text": [
      "pass\n"
     ]
    }
   ],
   "source": [
    "marks=76\n",
    "if marks>=50:\n",
    "    print(\"pass\")\n",
    "else:\n",
    "     print(\"fail\")"
   ]
  },
  {
   "cell_type": "code",
   "execution_count": null,
   "id": "ba977717",
   "metadata": {},
   "outputs": [],
   "source": [
    "# fetch the record of ali"
   ]
  },
  {
   "cell_type": "code",
   "execution_count": 107,
   "id": "af5c2d7f",
   "metadata": {},
   "outputs": [],
   "source": [
    "for i in employees:\n",
    "      if i[0]==\"danial\":\n",
    "             i.append(\"Techmazone\")"
   ]
  },
  {
   "cell_type": "code",
   "execution_count": 108,
   "id": "302e0959",
   "metadata": {},
   "outputs": [
    {
     "data": {
      "text/plain": [
       "[['Mubashir', 24, 7000.0, 'Male', 'Male', 'karachi', 'karachi'],\n",
       " ['sadd', 28, 5000.0, 'Male', 'Male', 'karachi', 'karachi'],\n",
       " ['Ali', 25, 8000.0, 'Male', 'Male', 'karachi', 'karachi'],\n",
       " ['daniial', 31, 5000.0, 'Male', 'Male', 'karachi', 'karachi']]"
      ]
     },
     "execution_count": 108,
     "metadata": {},
     "output_type": "execute_result"
    }
   ],
   "source": [
    "employees"
   ]
  },
  {
   "cell_type": "markdown",
   "id": "c0c11016",
   "metadata": {},
   "source": [
    "# Class Task 6 \n",
    "Q) increment the salary by 5000 if the name is \"saad\""
   ]
  },
  {
   "cell_type": "code",
   "execution_count": null,
   "id": "731a93ad",
   "metadata": {},
   "outputs": [],
   "source": [
    " for i in employees:\n",
    "        if i[0]==\"sadd\":\n",
    "        i[2]=i[2]+5000"
   ]
  },
  {
   "cell_type": "code",
   "execution_count": 129,
   "id": "3f4aebd3",
   "metadata": {},
   "outputs": [
    {
     "data": {
      "text/plain": [
       "[['Mubashir', 24, 7000.0, 'Male', 'Male', 'karachi', 'karachi'],\n",
       " [...],\n",
       " ['Ali', 25, 8000.0, 'Male', 'Male', 'karachi', 'karachi'],\n",
       " ['daniial', 31, 5000.0, 'Male', 'Male', 'karachi', 'karachi']]"
      ]
     },
     "execution_count": 129,
     "metadata": {},
     "output_type": "execute_result"
    }
   ],
   "source": [
    "employees"
   ]
  },
  {
   "cell_type": "code",
   "execution_count": null,
   "id": "82a06979",
   "metadata": {},
   "outputs": [],
   "source": [
    "\n"
   ]
  },
  {
   "cell_type": "code",
   "execution_count": null,
   "id": "1e9af289",
   "metadata": {},
   "outputs": [],
   "source": []
  }
 ],
 "metadata": {
  "kernelspec": {
   "display_name": "Python 3 (ipykernel)",
   "language": "python",
   "name": "python3"
  },
  "language_info": {
   "codemirror_mode": {
    "name": "ipython",
    "version": 3
   },
   "file_extension": ".py",
   "mimetype": "text/x-python",
   "name": "python",
   "nbconvert_exporter": "python",
   "pygments_lexer": "ipython3",
   "version": "3.9.13"
  }
 },
 "nbformat": 4,
 "nbformat_minor": 5
}
